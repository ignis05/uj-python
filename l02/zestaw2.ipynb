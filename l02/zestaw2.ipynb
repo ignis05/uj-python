{
 "cells": [
  {
   "cell_type": "code",
   "execution_count": 17,
   "metadata": {},
   "outputs": [],
   "source": [
    "# shared\n",
    "import re\n",
    "import random\n",
    "line = \"\"\"Pierwsze zdanie w wielowierszowym napisie.  \n",
    "Drugie zdanie w nowej linijce\n",
    "Ostatnia linijka\"\"\"\n",
    "line2 = \"Ex officia sint minim reprehenderit GvR proident Lorem adipisicing ex. Et commodo excepteur eu Lorem non non. GvR Non et proident velit tempor sunt labore ullamco Lorem aliquip magna.\"\n",
    "word = 'word'"
   ]
  },
  {
   "cell_type": "code",
   "execution_count": 9,
   "metadata": {
    "tags": []
   },
   "outputs": [
    {
     "name": "stdout",
     "output_type": "stream",
     "text": [
      "12\n"
     ]
    }
   ],
   "source": [
    "# 2.10\n",
    "# Mamy dany napis wielowierszowy line. Podać sposób obliczenia liczby wyrazów w napisie.\n",
    "# Przez wyraz rozumiemy ciąg \"czarnych\" znaków, oddzielony od innych wyrazów białymi znakami (spacja, tabulacja, newline).\n",
    "\n",
    "print(len(re.split('\\s+', line)))\n"
   ]
  },
  {
   "cell_type": "code",
   "execution_count": 7,
   "metadata": {},
   "outputs": [
    {
     "name": "stdout",
     "output_type": "stream",
     "text": [
      "w_o_r_d\n"
     ]
    }
   ],
   "source": [
    "# 2.11\n",
    "# Podać sposób wyświetlania napisu word tak, aby jego znaki były rozdzielone znakiem podkreślenia.\n",
    "\n",
    "print('_'.join(list(word)))"
   ]
  },
  {
   "cell_type": "code",
   "execution_count": 10,
   "metadata": {},
   "outputs": [
    {
     "name": "stdout",
     "output_type": "stream",
     "text": [
      "P z w w n D z w n l O l\n",
      "e e w m . e e w j e a a\n"
     ]
    }
   ],
   "source": [
    "# 2.12\n",
    "# Zbudować napis stworzony z pierwszych znaków wyrazów z wiersza line. Zbudować napis stworzony z ostatnich znaków wyrazów z wiersza line.\n",
    "words = re.split('\\s+', line)\n",
    "\n",
    "print(' '.join([word[0] for word in words]))\n",
    "print(' '.join([word[-1] for word in words]))"
   ]
  },
  {
   "cell_type": "code",
   "execution_count": 11,
   "metadata": {},
   "outputs": [
    {
     "name": "stdout",
     "output_type": "stream",
     "text": [
      "78\n"
     ]
    }
   ],
   "source": [
    "# 2.13\n",
    "# Znaleźć łączną długość wyrazów w napisie line. Wskazówka: można skorzystać z funkcji sum().\n",
    "words = re.split('\\s+', line)\n",
    "print(sum([len(word) for word in words]))"
   ]
  },
  {
   "cell_type": "code",
   "execution_count": 13,
   "metadata": {},
   "outputs": [
    {
     "name": "stdout",
     "output_type": "stream",
     "text": [
      "(a): wielowierszowym\n",
      "(b): 15\n"
     ]
    }
   ],
   "source": [
    "# 2.14\n",
    "# Znaleźć: (a) najdłuższy wyraz, (b) długość najdłuższego wyrazu w napisie line.\n",
    "\n",
    "words = re.split('\\s+', line)\n",
    "longestWord = words[0]\n",
    "wordLen = len(longestWord)\n",
    "for word in words:\n",
    "    l = len(word)\n",
    "    if l > wordLen:\n",
    "        longestWord = word\n",
    "        wordLen = l\n",
    "\n",
    "print(f'(a): {longestWord}\\n(b): {wordLen}')\n"
   ]
  },
  {
   "cell_type": "code",
   "execution_count": 15,
   "metadata": {},
   "outputs": [
    {
     "name": "stdout",
     "output_type": "stream",
     "text": [
      "[69, 95, 48, 61, 70, 78, 65, 43, 81, 24, 15, 97, 22, 83, 9]\n",
      "69954861707865438124159722839\n"
     ]
    }
   ],
   "source": [
    "# 2.15\n",
    "# Na liście L znajdują się liczby całkowite dodatnie. Stworzyć napis będący ciągiem cyfr kolejnych liczb z listy L.\n",
    "\n",
    "L = random.sample(range(1, 100), 15)\n",
    "napis = ''.join([str(n) for n in L])\n",
    "\n",
    "print(L)\n",
    "print(napis)"
   ]
  },
  {
   "cell_type": "code",
   "execution_count": 19,
   "metadata": {},
   "outputs": [
    {
     "name": "stdout",
     "output_type": "stream",
     "text": [
      "Ex officia sint minim reprehenderit GvR proident Lorem adipisicing ex. Et commodo excepteur eu Lorem non non. GvR Non et proident velit tempor sunt labore ullamco Lorem aliquip magna.\n",
      "Ex officia sint minim reprehenderit Guido van Rossum proident Lorem adipisicing ex. Et commodo excepteur eu Lorem non non. Guido van Rossum Non et proident velit tempor sunt labore ullamco Lorem aliquip magna.\n"
     ]
    }
   ],
   "source": [
    "# 2.16\n",
    "# W tekście znajdującym się w zmiennej line zamienić ciąg znaków \"GvR\" na \"Guido van Rossum\"\n",
    "\n",
    "newLine = line2.replace('GvR','Guido van Rossum')\n",
    "\n",
    "print(line2)\n",
    "print(newLine)"
   ]
  },
  {
   "cell_type": "code",
   "execution_count": 20,
   "metadata": {},
   "outputs": [
    {
     "name": "stdout",
     "output_type": "stream",
     "text": [
      "['Et', 'Ex', 'GvR', 'GvR', 'Lorem', 'Lorem', 'Lorem', 'Non', 'adipisicing', 'aliquip', 'commodo', 'et', 'eu', 'ex.', 'excepteur', 'labore', 'magna.', 'minim', 'non', 'non.', 'officia', 'proident', 'proident', 'reprehenderit', 'sint', 'sunt', 'tempor', 'ullamco', 'velit']\n",
      "['Ex', 'Et', 'eu', 'et', 'GvR', 'ex.', 'non', 'GvR', 'Non', 'sint', 'non.', 'sunt', 'minim', 'Lorem', 'Lorem', 'velit', 'Lorem', 'tempor', 'labore', 'magna.', 'officia', 'commodo', 'ullamco', 'aliquip', 'proident', 'proident', 'excepteur', 'adipisicing', 'reprehenderit']\n"
     ]
    }
   ],
   "source": [
    "# 2.17\n",
    "# Posortować wyrazy z napisu line raz alfabetycznie, a raz pod względem długości. Wskazówka: funkcja wbudowana sorted().\n",
    "\n",
    "words = re.split('\\s+', line2)\n",
    "\n",
    "alpha = sorted(words)\n",
    "lengths = sorted(words,key=lambda x: len(x))\n",
    "\n",
    "print(alpha)\n",
    "print(lengths)"
   ]
  },
  {
   "cell_type": "code",
   "execution_count": 21,
   "metadata": {},
   "outputs": [
    {
     "name": "stdout",
     "output_type": "stream",
     "text": [
      "60901979048545459\n",
      "3\n"
     ]
    }
   ],
   "source": [
    "# 2.18\n",
    "# Znaleźć liczbę cyfr zero w dużej liczbie całkowitej. Wskazówka: zamienić liczbę na napis.\n",
    "\n",
    "liczba = random.randint(10000000000000000, 99999999999999999)\n",
    "\n",
    "count = str(liczba).count('0')\n",
    "\n",
    "print(liczba)\n",
    "print(count)\n"
   ]
  },
  {
   "cell_type": "code",
   "execution_count": 22,
   "metadata": {},
   "outputs": [
    {
     "name": "stdout",
     "output_type": "stream",
     "text": [
      "[1, 10, 100, 632, 565, 802, 303, 782, 89, 30, 527, 253, 812, 751, 51, 672, 750, 640, 107, 118, 505, 350, 845]\n",
      "001, 010, 100, 632, 565, 802, 303, 782, 089, 030, 527, 253, 812, 751, 051, 672, 750, 640, 107, 118, 505, 350, 845\n"
     ]
    }
   ],
   "source": [
    "# 2.19\n",
    "# Na liście L mamy liczby jedno-, dwu- i trzycyfrowe dodatnie.\n",
    "# Chcemy zbudować napis z trzycyfrowych bloków, gdzie liczby jedno- i dwucyfrowe będą miały blok dopełniony zerami, np. 007, 024.\n",
    "# Wskazówka: str.zfill().\n",
    "\n",
    "L = [1, 10, 100] + random.sample(range(1, 999), 20)\n",
    "napis = ', '.join([str(nr).zfill(3) for nr in L])\n",
    "\n",
    "print(L)\n",
    "print(napis)\n"
   ]
  }
 ],
 "metadata": {
  "kernelspec": {
   "display_name": "Python 3.10.7 64-bit",
   "language": "python",
   "name": "python3"
  },
  "language_info": {
   "codemirror_mode": {
    "name": "ipython",
    "version": 3
   },
   "file_extension": ".py",
   "mimetype": "text/x-python",
   "name": "python",
   "nbconvert_exporter": "python",
   "pygments_lexer": "ipython3",
   "version": "3.10.7"
  },
  "orig_nbformat": 4,
  "vscode": {
   "interpreter": {
    "hash": "369f2c481f4da34e4445cda3fffd2e751bd1c4d706f27375911949ba6bb62e1c"
   }
  }
 },
 "nbformat": 4,
 "nbformat_minor": 2
}
